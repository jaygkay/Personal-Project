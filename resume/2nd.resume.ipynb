{
 "cells": [
  {
   "cell_type": "code",
   "execution_count": null,
   "metadata": {},
   "outputs": [],
   "source": [
    "# !pip install python-docx"
   ]
  },
  {
   "cell_type": "code",
   "execution_count": 1,
   "metadata": {},
   "outputs": [
    {
     "data": {
      "text/plain": [
       "['.DS_Store',\n",
       " '2nd.resume.ipynb',\n",
       " 'resume.db',\n",
       " '경력기술서_예.docx',\n",
       " '경력기술서_강종구.docx',\n",
       " 'resume.db-journal',\n",
       " '.ipynb_checkpoints']"
      ]
     },
     "execution_count": 1,
     "metadata": {},
     "output_type": "execute_result"
    }
   ],
   "source": [
    "import pandas as pd\n",
    "import numpy as np\n",
    "import matplotlib.pyplot as plt\n",
    "import sqlite3 as sql\n",
    "import docx\n",
    "import re\n",
    "import datetime\n",
    "import os\n",
    "os.listdir()"
   ]
  },
  {
   "cell_type": "code",
   "execution_count": 2,
   "metadata": {},
   "outputs": [
    {
     "data": {
      "text/plain": [
       "'200118'"
      ]
     },
     "execution_count": 2,
     "metadata": {},
     "output_type": "execute_result"
    }
   ],
   "source": [
    "now = str(datetime.datetime.now())\n",
    "appl_id = now.split(' ')[0][2:].replace('-','')\n",
    "appl_id"
   ]
  },
  {
   "cell_type": "code",
   "execution_count": null,
   "metadata": {},
   "outputs": [],
   "source": []
  },
  {
   "cell_type": "code",
   "execution_count": 3,
   "metadata": {},
   "outputs": [],
   "source": [
    "def raw_data_parser(raw_data):\n",
    "    for index, cont in enumerate(raw_data):\n",
    "        sub_title = cont[0]\n",
    "        if str(sub_title)[:4] == '지원사항':\n",
    "            print('지원사항',index)\n",
    "            index_a = index\n",
    "        elif str(sub_title)[:4] == '학력사항':\n",
    "            print('학력사항',index)\n",
    "            index_b = index\n",
    "        elif str(sub_title)[:4] == '경력사항':\n",
    "            print('경력사항',index)\n",
    "            index_c = index\n",
    "        elif str(sub_title)[:4] == '지원동기':\n",
    "            print('지원동기',index)\n",
    "            index_d = index\n",
    "        elif str(sub_title)[:5] == '나의 강점':\n",
    "            print('나의 강점',index)\n",
    "            index_e = index\n",
    "        elif str(sub_title)[:5] == '지원 분야':\n",
    "            print('지원 분야',index)\n",
    "            index_f = index\n",
    "    raw_who = raw_data[index_a : index_b]\n",
    "    raw_edu = raw_data[index_b : index_c]\n",
    "    raw_exp = raw_data[index_c : index_d]\n",
    "    raw_mot = raw_data[index_d : index_e]\n",
    "    raw_str = raw_data[index_e : index_f]\n",
    "    raw_pro = raw_data[index_f :]\n",
    "    now = str(datetime.datetime.now())\n",
    "    appl_id = now.split(' ')[0][2:].replace('-','')\n",
    "    \n",
    "    return [raw_who, raw_edu, raw_exp, raw_mot, raw_str, raw_pro, appl_id]\n",
    "\n",
    "\n",
    "def applicant_parser(aa, appl_id):\n",
    "    dept = remove_space(aa[1][1])\n",
    "    posi = remove_space(aa[1][3])\n",
    "    name = remove_space(aa[3][1])\n",
    "    dofb = remove_space(aa[3][3])\n",
    "    gend = remove_space(aa[4][1])\n",
    "    phon = remove_space(aa[4][3])\n",
    "    mail = remove_space(aa[5][2])\n",
    "    addr = remove_space(aa[6][2])\n",
    "    port = remove_space(aa[7][2])\n",
    "    \n",
    "    addr = re.sub('[\\n\\xa0]', '', str(addr))\n",
    "\n",
    "    return appl_id, dept, posi, name, dofb, gend, phon, mail, addr, port\n",
    "\n",
    "\n",
    "\n",
    "def education_parser(bb, appl_id):\n",
    "    edu_lst = []\n",
    "    edu_size = len(bb)-1\n",
    "\n",
    "    for i in range(1, edu_size + 1):\n",
    "        if i == 0:\n",
    "            pass\n",
    "        else:\n",
    "            if bb[i][0] == '고등학교':\n",
    "                degr = bb[i][0]\n",
    "                begi = remove_space(str(bb[i][1]).split('~')[0])\n",
    "                endd = remove_space(str(bb[i][1]).split('~')[1])\n",
    "                asso = bb[i][2]\n",
    "                loca = bb[i][3]\n",
    "                majo = bb[i][5]\n",
    "                gpa1 = ' '\n",
    "                gpa2 = ' '\n",
    "                done = bb[i][7]\n",
    "                edu_lst.append([appl_id, degr, begi, endd, asso, loca, majo, gpa1, gpa2, done])\n",
    "            else:\n",
    "                degr = bb[i][0]\n",
    "                begi = remove_space(str(bb[i][1]).split('~')[0])\n",
    "                endd = remove_space(str(bb[i][1]).split('~')[1])\n",
    "                asso = bb[i][2]\n",
    "                loca = bb[i][3]\n",
    "                majo = bb[i][5]\n",
    "                gpa1 = remove_space(str(bb[i][6]).split('/')[0])\n",
    "                gpa2 = remove_space(str(bb[i][6]).split('/')[-1])\n",
    "                done = bb[i][7]\n",
    "                edu_lst.append([appl_id, degr, begi, endd, asso, loca, majo, gpa1, gpa2, done])\n",
    "\n",
    "    return edu_lst\n",
    "\n",
    "\n",
    "def work_index_parser(aa):\n",
    "    index_lst = []\n",
    "    cal_lst = []\n",
    "    for i, j in enumerate(aa):\n",
    "        if '경력 'in j[0]:\n",
    "            index_lst.append(i)\n",
    "        elif '희망' in j[0]:\n",
    "            index_lst.append(i-1)\n",
    "            \n",
    "    for i, j in zip(index_lst, index_lst[1:]):\n",
    "        cal_lst.append([i, j-1])\n",
    "        \n",
    "    return cal_lst\n",
    "\n",
    "\n",
    "def work_parser(aa, appl_id):\n",
    "    work_index = work_index_parser(aa)\n",
    "    work_lst = []\n",
    "    for i in range(0, len(work_index)):\n",
    "        ind = work_index[i][0]\n",
    "\n",
    "        comp = aa[ind][2]\n",
    "        begi = remove_space(str(aa[ind][1]).split('~')[0])\n",
    "        till = remove_space(str(aa[ind][1]).split('~')[-1])\n",
    "        loca = aa[ind][3]\n",
    "        dept = aa[ind][4]\n",
    "        posi = aa[ind+1][1]\n",
    "        duty = aa[ind+1][2]\n",
    "        leav = aa[ind+1][3]\n",
    "        sala = remove_space(str(aa[ind+1][4]).split('(')[0])\n",
    "        det1 = aa[ind+2][1]\n",
    "        det2 = aa[ind+2][3]\n",
    "        mai1 = aa[ind+3][1]\n",
    "        mai2 = aa[ind+3][3]\n",
    "        work_lst.append([appl_id, comp, begi,till, loca, dept, posi, duty, leav, sala, det1, det2, mai1, mai2])\n",
    "    return work_lst\n",
    "\n",
    "\n",
    "def para_parser(aa, appl_id):\n",
    "    a = re.sub('[\\n\\xa0]', '', str(aa[1][0]))\n",
    "    return appl_id, a\n",
    "\n",
    "\n",
    "def remove_space(aa):\n",
    "    aa = re.sub('[ ]','',str(aa))\n",
    "    return aa"
   ]
  },
  {
   "cell_type": "code",
   "execution_count": 4,
   "metadata": {},
   "outputs": [],
   "source": [
    "# table check\n",
    "def check_tables():\n",
    "    query = \"SELECT count(name) FROM sqlite_master WHERE type = 'table'\"\n",
    "    do.execute(query)\n",
    "    print(do.fetchone())"
   ]
  },
  {
   "cell_type": "code",
   "execution_count": 5,
   "metadata": {},
   "outputs": [
    {
     "data": {
      "text/plain": [
       "[('지원사항', '지원사항', '지원사항', '지원사항'),\n",
       " ('지원부서', '인사부', '지원분야', '인사 데이터 분석'),\n",
       " ('기본인적사항', '기본인적사항', '기본인적사항', '기본인적사항'),\n",
       " ('성명', '강종구', '생년월일', '1987/06/17'),\n",
       " ('성별', '남', '휴대전화', '010-5502-2179'),\n",
       " ('이메일',\n",
       "  'jay.jonggoo.kang@gmail.com',\n",
       "  'jay.jonggoo.kang@gmail.com',\n",
       "  'jay.jonggoo.kang@gmail.com'),\n",
       " ('주소',\n",
       "  '서울시 강남구 테헤란로 108길 42 (대치동, MDM타워)\\xa0',\n",
       "  '서울시 강남구 테헤란로 108길 42 (대치동, MDM타워)\\xa0',\n",
       "  '서울시 강남구 테헤란로 108길 42 (대치동, MDM타워)\\xa0'),\n",
       " ('포트폴리오',\n",
       "  'https://github.com/jaygkay',\n",
       "  'https://github.com/jaygkay',\n",
       "  'https://github.com/jaygkay'),\n",
       " ('학력사항',\n",
       "  '학력사항',\n",
       "  '학력사항',\n",
       "  '학력사항',\n",
       "  '(해당 학력사항 없을 시 셀을 삭제 후 제출)',\n",
       "  '(해당 학력사항 없을 시 셀을 삭제 후 제출)',\n",
       "  '(해당 학력사항 없을 시 셀을 삭제 후 제출)',\n",
       "  '(해당 학력사항 없을 시 셀을 삭제 후 제출)'),\n",
       " ('석사',\n",
       "  '2018/12 ~ 2016/09',\n",
       "  'DePaul University',\n",
       "  'IL, USA',\n",
       "  'IL, USA',\n",
       "  '데이터\\n사이언스',\n",
       "  '3.0 / 4.0',\n",
       "  '졸업'),\n",
       " ('학사 \\n(편입 시)',\n",
       "  '2015/12 ~ 2012/09',\n",
       "  'University of Minnesota',\n",
       "  'MN, USA',\n",
       "  'MN, USA',\n",
       "  '수학과\\n경제학과',\n",
       "  '2.0 / 4.0',\n",
       "  '졸업'),\n",
       " ('학사',\n",
       "  '2011/01 ~ 2012/05',\n",
       "  'University of Wisconsin',\n",
       "  'WI, USA',\n",
       "  'WI, USA',\n",
       "  '경제학',\n",
       "  '1.0 / 4.0',\n",
       "  '중퇴'),\n",
       " ('고등학교',\n",
       "  '2003/03 ~ 2006/02',\n",
       "  '김포고등학교',\n",
       "  '경기도 김포',\n",
       "  '경기도 김포',\n",
       "  '전공계열',\n",
       "  '졸업',\n",
       "  '졸업'),\n",
       " ('경력사항           (최근 순서 / 다수 회사에서 경력이 있는 경우, 양식을 복사하여 작성 바랍니다)',\n",
       "  '경력사항           (최근 순서 / 다수 회사에서 경력이 있는 경우, 양식을 복사하여 작성 바랍니다)',\n",
       "  '경력사항           (최근 순서 / 다수 회사에서 경력이 있는 경우, 양식을 복사하여 작성 바랍니다)',\n",
       "  '경력사항           (최근 순서 / 다수 회사에서 경력이 있는 경우, 양식을 복사하여 작성 바랍니다)',\n",
       "  '경력사항           (최근 순서 / 다수 회사에서 경력이 있는 경우, 양식을 복사하여 작성 바랍니다)'),\n",
       " ('경력 1', '2019/08 ~ 2019/11', 'IQVIA Korea', '서울 충무로', '통계팀'),\n",
       " ('', '대리', '머신 러닝 모델링', '개인정보보호법', '2000 (만원)'),\n",
       " ('', '머신 러닝 모델링', '머신 러닝 모델링', '글로벌 프로젝트 담당', '글로벌 프로젝트 담당'),\n",
       " ('', '머신 러닝 시스템 구현', '머신 러닝 시스템 구현', '리포트 자동화', '리포트 자동화'),\n",
       " ('경력 2', '2018/03 ~ 2019/03', 'CarVi Inc.', '샌프란시스코', '데이터 팀'),\n",
       " ('', 'Data Scientist', 'Data Science', '한국 음식ㅠ', '2000 (만원)'),\n",
       " ('', '데이터 생성', '데이터 생성', '데이터 분석', '데이터 분석'),\n",
       " ('', '모든 데이터 파이프라인 구축', '모든 데이터 파이프라인 구축', '데이터 세일', '데이터 세일'),\n",
       " ('추가사항', '추가사항', '추가사항', '추가사항'),\n",
       " ('희망연봉 (만원)', ' 3000 ', '입사가능일', '2020/01/01'),\n",
       " ('지원동기',),\n",
       " ('저 아미에요\\n\\n\\n\\n\\n\\n\\n\\n\\n\\n',),\n",
       " ('나의 강점 및 포부',),\n",
       " ('지각을 안해요. 개근상 타겠습니다.\\n\\n\\n\\n\\n\\n\\n\\n\\n\\n',),\n",
       " ('지원 분야와 관련한 본인 주요 성과 /프로젝트/경력을 기술해주시기 바랍니다',),\n",
       " ('제휴/계약으로 영업이익 0.05% 증대 기여\\n\\n\\n\\n\\n\\n\\n\\n\\n\\n',)]"
      ]
     },
     "execution_count": 5,
     "metadata": {},
     "output_type": "execute_result"
    }
   ],
   "source": [
    "doc = docx.Document('경력기술서_강종구.docx')\n",
    "tables = doc.tables\n",
    "table_size = len(tables)\n",
    "\n",
    "\n",
    "raw_data = []\n",
    "for table_num in range(0, table_size):\n",
    "    for i, row in enumerate(tables[table_num].rows):\n",
    "        text = [cell.text for cell in row.cells]\n",
    "    \n",
    "        row_data = tuple(text)#dict(zip(keys, text))\n",
    "        raw_data.append(row_data)   \n",
    "raw_data"
   ]
  },
  {
   "cell_type": "code",
   "execution_count": 6,
   "metadata": {},
   "outputs": [
    {
     "name": "stdout",
     "output_type": "stream",
     "text": [
      "지원사항 0\n",
      "학력사항 8\n",
      "경력사항 13\n",
      "지원동기 24\n",
      "나의 강점 26\n",
      "지원 분야 28\n"
     ]
    }
   ],
   "source": [
    "raw_data_parser = raw_data_parser(raw_data)\n",
    "who = applicant_parser(raw_data_parser[0], raw_data_parser[-1])\n",
    "edu = education_parser(raw_data_parser[1], raw_data_parser[-1])\n",
    "work = work_parser(raw_data_parser[2], raw_data_parser[-1])\n",
    "motive = para_parser(raw_data_parser[3], raw_data_parser[-1])\n",
    "strength = para_parser(raw_data_parser[4], raw_data_parser[-1])\n",
    "project = para_parser(raw_data_parser[5], raw_data_parser[-1])\n"
   ]
  },
  {
   "cell_type": "code",
   "execution_count": 7,
   "metadata": {},
   "outputs": [],
   "source": [
    "database_name = 'resume.db'\n",
    "conn = sql.connect(database_name)\n",
    "do = conn.cursor()"
   ]
  },
  {
   "cell_type": "code",
   "execution_count": 8,
   "metadata": {},
   "outputs": [
    {
     "data": {
      "text/plain": [
       "('200118',\n",
       " '인사부',\n",
       " '인사데이터분석',\n",
       " '강종구',\n",
       " '1987/06/17',\n",
       " '남',\n",
       " '010-5502-2179',\n",
       " 'jay.jonggoo.kang@gmail.com',\n",
       " '서울시강남구테헤란로108길42(대치동,MDM타워)',\n",
       " 'https://github.com/jaygkay')"
      ]
     },
     "execution_count": 8,
     "metadata": {},
     "output_type": "execute_result"
    }
   ],
   "source": [
    "who"
   ]
  },
  {
   "cell_type": "code",
   "execution_count": 9,
   "metadata": {},
   "outputs": [
    {
     "data": {
      "text/plain": [
       "<sqlite3.Cursor at 0x1149e55e0>"
      ]
     },
     "execution_count": 9,
     "metadata": {},
     "output_type": "execute_result"
    }
   ],
   "source": [
    "query = \"DROP TABLE IF EXISTS edu_query\"\n",
    "do.execute(query)"
   ]
  },
  {
   "cell_type": "markdown",
   "metadata": {},
   "source": [
    "# who_table기존 값에 + edu_Id(1,2,3) + work_ID(1,2) + motive_Id + strenth_ID + project + ID"
   ]
  },
  {
   "cell_type": "code",
   "execution_count": 10,
   "metadata": {},
   "outputs": [
    {
     "name": "stdout",
     "output_type": "stream",
     "text": [
      "('who_table',)\n",
      "('education_table',)\n",
      "('work_table',)\n",
      "('motive_table',)\n",
      "('strength_table',)\n",
      "('project_table',)\n"
     ]
    }
   ],
   "source": [
    "who_query = \"CREATE TABLE IF NOT EXISTS who_table\\\n",
    "        (appl_id       INTEGER PRIMARY_KEY NOT_NULL,\\\n",
    "         department    VARCHAR(20),\\\n",
    "         position      VARCHAR(30),\\\n",
    "         name          VARCHAR(30),\\\n",
    "         dofb          DATETIME,\\\n",
    "         gender        VARCHAR(10),\\\n",
    "         phone         VARCHAR(20),\\\n",
    "         email         VARCHAR(50),\\\n",
    "         address       VARCHAR(80),\\\n",
    "         portfolio     VARCHAR(50))\\\n",
    "         \"\n",
    "do.execute(who_query)\n",
    "\n",
    "\n",
    "edu_query = \"CREATE TABLE IF NOT EXISTS education_table\\\n",
    "        (appl_id       INTEGER FOREIGN_KEY NOT_NULL,\\\n",
    "         degree       VARCHAR(20),\\\n",
    "         edu_start    VARCHAR(20),\\\n",
    "         edu_end      VARCHAR(20),\\\n",
    "         edu_name     VARCHAR(30),\\\n",
    "         edu_loc      VARCHAR(30),\\\n",
    "         edu_major    VARCHAR(30),\\\n",
    "         edu_gpa1     VARCHAR(20),\\\n",
    "         edu_gpa2     VARCHAR(20),\\\n",
    "         edu_status   VARCHAR(20))\\\n",
    "         \"\n",
    "do.execute(edu_query)\n",
    "\n",
    "work_query = \"CREATE TABLE IF NOT EXISTS work_table\\\n",
    "            (appl_id       INTEGER FOREIGN_KEY NOT_NULL,\\\n",
    "             company       VARCHAR(30),\\\n",
    "             work_start    VARCAHR(20),\\\n",
    "             work_end      VARCHAR(20),\\\n",
    "             work_loc      VARCHAR(30),\\\n",
    "             work_dept     VARCHAR(30),\\\n",
    "             work_title    VARCHAR(30),\\\n",
    "             work_duty     VARCAHR(50),\\\n",
    "             work_leave    VARCHAR(80),\\\n",
    "             work_salary   VARCHAR(20),\\\n",
    "             work_detail1  VARCHAR(50),\\\n",
    "             work_detail2  VARCHAR(50),\\\n",
    "             work_main1    VARCHAR(50),\\\n",
    "             work_main2    VARCHAR(50))\"\n",
    "do.execute(work_query)\n",
    "\n",
    "motive_query = \"CREATE TABLE IF NOT EXISTS motive_table\\\n",
    "              (appl_id       INTEGER FOREIGN_KEY NOT_NULL,\\\n",
    "               motive   VARCHAR(200))\"\n",
    "do.execute(motive_query)\n",
    "\n",
    "\n",
    "strength_query = \"CREATE TABLE IF NOT EXISTS strength_table\\\n",
    "              (appl_id       INTEGER FOREIGN_KEY NOT_NULL,\\\n",
    "               strength   VARCHAR(200))\"\n",
    "do.execute(strength_query)\n",
    "\n",
    "\n",
    "project_query = \"CREATE TABLE IF NOT EXISTS project_table\\\n",
    "              (appl_id       INTEGER FOREIGN_KEY NOT_NULL,\\\n",
    "               project   VARCHAR(200))\"\n",
    "do.execute(project_query)\n",
    "\n",
    "do.execute(\"SELECT name FROM sqlite_master WHERE type = 'table';\")\n",
    "for i in do:\n",
    "    print(i)"
   ]
  },
  {
   "cell_type": "code",
   "execution_count": 14,
   "metadata": {},
   "outputs": [
    {
     "data": {
      "text/plain": [
       "('200118',\n",
       " '인사부',\n",
       " '인사데이터분석',\n",
       " '강종구',\n",
       " '1987/06/17',\n",
       " '남',\n",
       " '010-5502-2179',\n",
       " 'jay.jonggoo.kang@gmail.com',\n",
       " '서울시강남구테헤란로108길42(대치동,MDM타워)',\n",
       " 'https://github.com/jaygkay')"
      ]
     },
     "execution_count": 14,
     "metadata": {},
     "output_type": "execute_result"
    }
   ],
   "source": [
    "who"
   ]
  },
  {
   "cell_type": "code",
   "execution_count": null,
   "metadata": {},
   "outputs": [],
   "source": [
    "len(who)"
   ]
  },
  {
   "cell_type": "code",
   "execution_count": null,
   "metadata": {},
   "outputs": [],
   "source": [
    "who_insert = \"INSERT INTO who_table VALUES (?,?,?,?,?,?,?,?,?,?)\"\n",
    "do.execute(who_insert, who)"
   ]
  },
  {
   "cell_type": "code",
   "execution_count": 13,
   "metadata": {},
   "outputs": [
    {
     "data": {
      "text/plain": [
       "[]"
      ]
     },
     "execution_count": 13,
     "metadata": {},
     "output_type": "execute_result"
    }
   ],
   "source": [
    "query = \"SELECT * FROM who_table\"\n",
    "do.execute(query)\n",
    "do.fetchall()"
   ]
  },
  {
   "cell_type": "code",
   "execution_count": null,
   "metadata": {},
   "outputs": [],
   "source": [
    "len(edu), len(edu[0])"
   ]
  },
  {
   "cell_type": "code",
   "execution_count": null,
   "metadata": {},
   "outputs": [],
   "source": [
    "for i in range(0, len(edu)):\n",
    "    edu_insert = \"INSERT INTO education_table VALUES (?,?,?,?,?,?,?,?,?,?)\"\n",
    "    do.execute(edu_insert, edu[i])"
   ]
  },
  {
   "cell_type": "code",
   "execution_count": null,
   "metadata": {},
   "outputs": [],
   "source": [
    "query = \"SELECT * FROM education_table\"\n",
    "do.execute(query)\n",
    "do.fetchall()"
   ]
  },
  {
   "cell_type": "code",
   "execution_count": null,
   "metadata": {},
   "outputs": [],
   "source": [
    "len(work), len(work[0])"
   ]
  },
  {
   "cell_type": "code",
   "execution_count": null,
   "metadata": {},
   "outputs": [],
   "source": [
    "for i in range(0, len(work)):\n",
    "    work_insert = \"INSERT INTO work_table VALUES (?,?,?,?,?,?,?,?,?,?,?,?,?,?)\"\n",
    "    do.execute(work_insert, work[i])"
   ]
  },
  {
   "cell_type": "code",
   "execution_count": null,
   "metadata": {},
   "outputs": [],
   "source": [
    "query = \"SELECT * FROM work_table\"\n",
    "do.execute(query)\n",
    "do.fetchall()"
   ]
  },
  {
   "cell_type": "code",
   "execution_count": null,
   "metadata": {},
   "outputs": [],
   "source": [
    "motive_insert = \"INSERT INTO motive_table VALUES (?,?)\"\n",
    "do.execute(motive_insert, motive)"
   ]
  },
  {
   "cell_type": "code",
   "execution_count": null,
   "metadata": {},
   "outputs": [],
   "source": [
    "query = \"SELECT * FROM motive_table\"\n",
    "do.execute(query)\n",
    "do.fetchall()"
   ]
  },
  {
   "cell_type": "code",
   "execution_count": null,
   "metadata": {},
   "outputs": [],
   "source": [
    "strength_insert = \"INSERT INTO strength_table VALUES (?,?)\"\n",
    "do.execute(strength_insert, strength)"
   ]
  },
  {
   "cell_type": "code",
   "execution_count": null,
   "metadata": {},
   "outputs": [],
   "source": [
    "query = \"SELECT * FROM strength_table\"\n",
    "do.execute(query)\n",
    "do.fetchall()"
   ]
  },
  {
   "cell_type": "code",
   "execution_count": null,
   "metadata": {},
   "outputs": [],
   "source": [
    "project_insert = \"INSERT INTO project_table VALUES (?,?)\"\n",
    "do.execute(project_insert, project)"
   ]
  },
  {
   "cell_type": "code",
   "execution_count": null,
   "metadata": {},
   "outputs": [],
   "source": [
    "query = \"SELECT * FROM project_table\"\n",
    "do.execute(query)\n",
    "do.fetchall()"
   ]
  },
  {
   "cell_type": "code",
   "execution_count": null,
   "metadata": {},
   "outputs": [],
   "source": [
    "query = '''SELECT * \n",
    "         FROM who_table as a\n",
    "         LEFT JOIN education_table as b\n",
    "              \n",
    "         ON a.appl_id = b.appl_id\n",
    "            '''\n",
    "    \n",
    "\n",
    "do.execute(query)\n",
    "do.fetchall()"
   ]
  },
  {
   "cell_type": "code",
   "execution_count": null,
   "metadata": {},
   "outputs": [],
   "source": [
    "query = \"SELECT * from who_table as a\\\n",
    "         INNER JOIN education_table as b on a.appl_id = b.appl_id\\\n",
    "         INNER JOIN work_table as c on b.appl_id = c.appl_id\\\n",
    "         INNER JOIN motive_table as d on c.appl_id = d.appl_id\\\n",
    "         INNER JOIN strength_table as e on d.appl_id = e.appl_id\\\n",
    "         INNER JOIN project_table as f on e.appl_id = f.appl_id\"\n",
    "\n",
    "do.execute(query)\n",
    "do.fetchall()"
   ]
  },
  {
   "cell_type": "code",
   "execution_count": null,
   "metadata": {},
   "outputs": [],
   "source": []
  }
 ],
 "metadata": {
  "kernelspec": {
   "display_name": "Python 3",
   "language": "python",
   "name": "python3"
  },
  "language_info": {
   "codemirror_mode": {
    "name": "ipython",
    "version": 3
   },
   "file_extension": ".py",
   "mimetype": "text/x-python",
   "name": "python",
   "nbconvert_exporter": "python",
   "pygments_lexer": "ipython3",
   "version": "3.7.3"
  }
 },
 "nbformat": 4,
 "nbformat_minor": 2
}
