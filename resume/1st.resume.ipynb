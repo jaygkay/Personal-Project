{
 "cells": [
  {
   "cell_type": "code",
   "execution_count": 3,
   "metadata": {},
   "outputs": [],
   "source": [
    "# !pip install python-docx"
   ]
  },
  {
   "cell_type": "code",
   "execution_count": 1,
   "metadata": {},
   "outputs": [
    {
     "data": {
      "text/plain": [
       "['.DS_Store',\n",
       " '경력기술서_강종구.docx',\n",
       " '.ipynb_checkpoints',\n",
       " 'resume.ipynb']"
      ]
     },
     "execution_count": 1,
     "metadata": {},
     "output_type": "execute_result"
    }
   ],
   "source": [
    "import docx\n",
    "import os\n",
    "os.listdir()"
   ]
  },
  {
   "cell_type": "code",
   "execution_count": null,
   "metadata": {},
   "outputs": [],
   "source": [
    "# doc = docx.Document('경력기술서_강종구.docx')\n",
    "# data = \"\"\n",
    "# text_lst = []\n",
    "# for para in doc.paragraphs:\n",
    "#     text_lst.append(para.text)\n",
    "#     data = '\\n'.join(text_lst)\n",
    "# print(data)"
   ]
  },
  {
   "cell_type": "markdown",
   "metadata": {},
   "source": [
    "#### sub title 제거 후 raw_data를 한줄씩 읽어와서 일일이 parsing"
   ]
  },
  {
   "cell_type": "code",
   "execution_count": 8,
   "metadata": {},
   "outputs": [],
   "source": [
    "# doc = docx.Document('경력기술서_강종구.docx')\n",
    "# tables = doc.tables\n",
    "# table_size = len(tables)\n",
    "\n",
    "\n",
    "# raw_data = []\n",
    "# keys = None\n",
    "# for table_num in range(0, table_size):\n",
    "#     for i, row in enumerate(table[table_num].rows):\n",
    "#         text = [cell.text for cell in row.cells]\n",
    "#         if i == 0:\n",
    "#             keys = tuple(text)\n",
    "#             continue\n",
    "#         row_data = tuple(text)#dict(zip(keys, text))\n",
    "#         raw_data.append(row_data)   \n",
    "# raw_data"
   ]
  },
  {
   "cell_type": "code",
   "execution_count": 3,
   "metadata": {},
   "outputs": [],
   "source": [
    "# dept_lst = []\n",
    "# posi_lst = []\n",
    "# name_lst = []\n",
    "# dofb_lst = []\n",
    "# gend_lst = []\n",
    "# mail_lst = []\n",
    "# phon_lst = []\n",
    "\n",
    "# dept_lst.append(raw_data[0][1])\n",
    "# posi_lst.append(raw_data[0][3])\n",
    "# name_lst.append(raw_data[1][1])\n",
    "# dofb_lst.append(raw_data[1][3])\n",
    "# gend_lst.append(raw_data[2][1])\n",
    "# phon_lst.append(raw_data[2][3])\n",
    "# phon_lst"
   ]
  },
  {
   "cell_type": "markdown",
   "metadata": {},
   "source": [
    "#### sub title 살리고, sub title대로 짤라서 따로 parsing\n",
    "- raw_data[0] ~ raw_data"
   ]
  },
  {
   "cell_type": "code",
   "execution_count": 2,
   "metadata": {},
   "outputs": [
    {
     "data": {
      "text/plain": [
       "[('지원사항', '지원사항', '지원사항', '지원사항'),\n",
       " ('지원부서', '인사부', '지원분야', '인사 데이터 분석'),\n",
       " ('기본인적사항', '기본인적사항', '기본인적사항', '기본인적사항'),\n",
       " ('성명', '강종구', '생년월일', ' 1987/06/17'),\n",
       " ('성별', '남', '휴대전화', '010-5502-2179'),\n",
       " ('이메일',\n",
       "  'jay.jonggoo.kang@gmail.com',\n",
       "  'jay.jonggoo.kang@gmail.com',\n",
       "  'jay.jonggoo.kang@gmail.com'),\n",
       " ('주소',\n",
       "  '서울시 강남구 테헤란로 108길 42 (대치동, MDM타워)\\xa0',\n",
       "  '서울시 강남구 테헤란로 108길 42 (대치동, MDM타워)\\xa0',\n",
       "  '서울시 강남구 테헤란로 108길 42 (대치동, MDM타워)\\xa0'),\n",
       " ('포트폴리오',\n",
       "  'https://github.com/jaygkay',\n",
       "  'https://github.com/jaygkay',\n",
       "  'https://github.com/jaygkay'),\n",
       " ('학력사항',\n",
       "  '학력사항',\n",
       "  '학력사항',\n",
       "  '학력사항',\n",
       "  '(해당 학력사항 없을 시 셀을 삭제 후 제출)',\n",
       "  '(해당 학력사항 없을 시 셀을 삭제 후 제출)',\n",
       "  '(해당 학력사항 없을 시 셀을 삭제 후 제출)',\n",
       "  '(해당 학력사항 없을 시 셀을 삭제 후 제출)'),\n",
       " ('석사',\n",
       "  '2018/12 ~ 2016/09',\n",
       "  'DePaul University',\n",
       "  'IL, USA',\n",
       "  'IL, USA',\n",
       "  '데이터\\n사이언스',\n",
       "  '3.0 / 4.0',\n",
       "  '졸업'),\n",
       " ('대학교 (편입 시)',\n",
       "  '2015/12 ~ 2012/09',\n",
       "  'University of Minnesota',\n",
       "  'MN, USA',\n",
       "  'MN, USA',\n",
       "  '수학과\\n경제학과',\n",
       "  '2.0 / 4.0',\n",
       "  '졸업'),\n",
       " ('대학교 (입학)',\n",
       "  '2011/01 ~ 2012/05',\n",
       "  'University of Wisconsin',\n",
       "  'WI, USA',\n",
       "  'WI, USA',\n",
       "  '경제학',\n",
       "  '1.0 / 4.0',\n",
       "  '중퇴'),\n",
       " ('고등학교',\n",
       "  '2003/03 ~ 2006/02',\n",
       "  '김포고등학교',\n",
       "  '경기도 김포',\n",
       "  '경기도 김포',\n",
       "  '전공계열',\n",
       "  '졸업',\n",
       "  '졸업'),\n",
       " ('경력사항           (최근 순서 / 다수 회사에서 경력이 있는 경우, 양식을 복사하여 작성 바랍니다)',\n",
       "  '경력사항           (최근 순서 / 다수 회사에서 경력이 있는 경우, 양식을 복사하여 작성 바랍니다)',\n",
       "  '경력사항           (최근 순서 / 다수 회사에서 경력이 있는 경우, 양식을 복사하여 작성 바랍니다)',\n",
       "  '경력사항           (최근 순서 / 다수 회사에서 경력이 있는 경우, 양식을 복사하여 작성 바랍니다)',\n",
       "  '경력사항           (최근 순서 / 다수 회사에서 경력이 있는 경우, 양식을 복사하여 작성 바랍니다)'),\n",
       " ('경력 1', '2019/08 ~ 2019/11', 'IQVIA Korea', '서울 충무로', '통계팀'),\n",
       " ('', '대리', '머신 러닝 모델링', '개인정보보호법', '2000 (만원)'),\n",
       " ('', '머신 러닝 모델링', '머신 러닝 모델링', '글로벌 프로젝트 담당', '글로벌 프로젝트 담당'),\n",
       " ('', '머신 러닝 시스템 구현', '머신 러닝 시스템 구현', '리포트 자동화', '리포트 자동화'),\n",
       " ('경력 2', '2018/03 ~ 2019/03', 'CarVi Inc.', '샌프란시스코', '데이터 팀'),\n",
       " ('', 'Data Scientist', 'Data Science', '한국 음식ㅠ', '2000 (만원)'),\n",
       " ('', '데이터 생성', '데이터 생성', '데이터 분석', '데이터 분석'),\n",
       " ('', '모든 데이터 파이프라인 구축', '모든 데이터 파이프라인 구축', '데이터 세일', '데이터 세일'),\n",
       " ('추가사항', '추가사항', '추가사항', '추가사항'),\n",
       " ('희망연봉 (만원)', ' 3000 ', '입사가능일', '2020/01/01'),\n",
       " ('지원동기',),\n",
       " ('저 아미에요\\n\\n\\n\\n\\n\\n\\n\\n\\n\\n',),\n",
       " ('나의 강점 및 포부',),\n",
       " ('지각을 안해요. 개근상 타겠습니다.\\n\\n\\n\\n\\n\\n\\n\\n\\n\\n',),\n",
       " ('지원 분야와 관련한 본인 주요 성과 /프로젝트/경력을 기술해주시기 바랍니다',),\n",
       " ('제휴/계약으로 영업이익 0.05% 증대 기여\\n\\n\\n\\n\\n\\n\\n\\n\\n\\n',)]"
      ]
     },
     "execution_count": 2,
     "metadata": {},
     "output_type": "execute_result"
    }
   ],
   "source": [
    "doc = docx.Document('경력기술서_강종구.docx')\n",
    "tables = doc.tables\n",
    "table_size = len(tables)\n",
    "\n",
    "\n",
    "raw_data = []\n",
    "for table_num in range(0, table_size):\n",
    "    for i, row in enumerate(tables[table_num].rows):\n",
    "        text = [cell.text for cell in row.cells]\n",
    "    \n",
    "        row_data = tuple(text)#dict(zip(keys, text))\n",
    "        raw_data.append(row_data)   \n",
    "raw_data"
   ]
  },
  {
   "cell_type": "code",
   "execution_count": 4,
   "metadata": {},
   "outputs": [],
   "source": [
    "def resume_parsing(raw_data):\n",
    "    for index, cont in enumerate(raw_data):\n",
    "        sub_title = cont[0]\n",
    "        if str(sub_title)[:4] == '지원사항':\n",
    "            print('지원사항',index)\n",
    "            index_a = index\n",
    "        elif str(sub_title)[:4] == '학력사항':\n",
    "            print('학력사항',index)\n",
    "            index_b = index\n",
    "        elif str(sub_title)[:4] == '경력사항':\n",
    "            print('경력사항',index)\n",
    "            index_c = index\n",
    "        elif str(sub_title)[:4] == '지원동기':\n",
    "            print('지원동기',index)\n",
    "            index_d = index\n",
    "        elif str(sub_title)[:5] == '나의 강점':\n",
    "            print('나의 강점',index)\n",
    "            index_e = index\n",
    "        elif str(sub_title)[:5] == '지원 분야':\n",
    "            print('지원 분야',index)\n",
    "            index_f = index\n",
    "    raw_who = raw_data[index_a : index_b]\n",
    "    raw_edu = raw_data[index_b : index_c]\n",
    "    raw_exp = raw_data[index_c : index_d]\n",
    "    raw_mot = raw_data[index_d : index_e]\n",
    "    raw_str = raw_data[index_e : index_f]\n",
    "    raw_pro = raw_data[index_f :]\n",
    "    \n",
    "    return [raw_who, raw_edu, raw_exp, raw_mot, raw_str, raw_pro]"
   ]
  },
  {
   "cell_type": "code",
   "execution_count": 5,
   "metadata": {},
   "outputs": [
    {
     "name": "stdout",
     "output_type": "stream",
     "text": [
      "지원사항 0\n",
      "학력사항 8\n",
      "경력사항 13\n",
      "지원동기 24\n",
      "나의 강점 26\n",
      "지원 분야 28\n"
     ]
    }
   ],
   "source": [
    "raw_data_parser = resume_parsing(raw_data)"
   ]
  },
  {
   "cell_type": "code",
   "execution_count": 6,
   "metadata": {},
   "outputs": [
    {
     "name": "stdout",
     "output_type": "stream",
     "text": [
      "0 ('경력사항           (최근 순서 / 다수 회사에서 경력이 있는 경우, 양식을 복사하여 작성 바랍니다)', '경력사항           (최근 순서 / 다수 회사에서 경력이 있는 경우, 양식을 복사하여 작성 바랍니다)', '경력사항           (최근 순서 / 다수 회사에서 경력이 있는 경우, 양식을 복사하여 작성 바랍니다)', '경력사항           (최근 순서 / 다수 회사에서 경력이 있는 경우, 양식을 복사하여 작성 바랍니다)', '경력사항           (최근 순서 / 다수 회사에서 경력이 있는 경우, 양식을 복사하여 작성 바랍니다)')\n",
      "1 ('경력 1', '2019/08 ~ 2019/11', 'IQVIA Korea', '서울 충무로', '통계팀')\n",
      "2 ('', '대리', '머신 러닝 모델링', '개인정보보호법', '2000 (만원)')\n",
      "3 ('', '머신 러닝 모델링', '머신 러닝 모델링', '글로벌 프로젝트 담당', '글로벌 프로젝트 담당')\n",
      "4 ('', '머신 러닝 시스템 구현', '머신 러닝 시스템 구현', '리포트 자동화', '리포트 자동화')\n",
      "5 ('경력 2', '2018/03 ~ 2019/03', 'CarVi Inc.', '샌프란시스코', '데이터 팀')\n",
      "6 ('', 'Data Scientist', 'Data Science', '한국 음식ㅠ', '2000 (만원)')\n",
      "7 ('', '데이터 생성', '데이터 생성', '데이터 분석', '데이터 분석')\n",
      "8 ('', '모든 데이터 파이프라인 구축', '모든 데이터 파이프라인 구축', '데이터 세일', '데이터 세일')\n",
      "9 ('추가사항', '추가사항', '추가사항', '추가사항')\n",
      "10 ('희망연봉 (만원)', ' 3000 ', '입사가능일', '2020/01/01')\n"
     ]
    }
   ],
   "source": [
    "for i, j in enumerate(raw_data_parser[2]):\n",
    "    print(i, j)"
   ]
  },
  {
   "cell_type": "code",
   "execution_count": null,
   "metadata": {},
   "outputs": [],
   "source": []
  },
  {
   "cell_type": "code",
   "execution_count": 8,
   "metadata": {},
   "outputs": [],
   "source": [
    "def education_parser(bb):\n",
    "    edu_lst = []\n",
    "    edu_size = len(bb)-1\n",
    "\n",
    "    for i in range(1, edu_size + 1):\n",
    "        if i == 0:\n",
    "            pass\n",
    "        else:\n",
    "            degr = bb[i][0]\n",
    "            peri = bb[i][1]\n",
    "            asso = bb[i][2]\n",
    "            loca = bb[i][3]\n",
    "            majo = bb[i][5]\n",
    "            gpas = bb[i][6]\n",
    "            done = bb[i][7]\n",
    "            edu_lst.append([degr, peri, asso, loca, majo, gpas, done])\n",
    "    return edu_lst"
   ]
  },
  {
   "cell_type": "code",
   "execution_count": 9,
   "metadata": {},
   "outputs": [],
   "source": [
    "def applicant_parser(aa):\n",
    "    dept = aa[1][1]\n",
    "    posi = aa[1][3]\n",
    "    name = aa[3][1]\n",
    "    dofb = aa[3][1]\n",
    "    gend = aa[4][1]\n",
    "    phon = aa[4][3]\n",
    "    mail = aa[5][2]\n",
    "    addr = aa[6][2]\n",
    "    port = aa[7][2]\n",
    "    return dept, posi, name, dofb, gend, phon, mail, addr, port"
   ]
  },
  {
   "cell_type": "code",
   "execution_count": null,
   "metadata": {},
   "outputs": [],
   "source": [
    "edu_lst = education_parser(raw_data_parser[1])\n",
    "who = applicant_parser(raw_data_parser[0])\n"
   ]
  },
  {
   "cell_type": "code",
   "execution_count": null,
   "metadata": {},
   "outputs": [],
   "source": []
  },
  {
   "cell_type": "code",
   "execution_count": null,
   "metadata": {},
   "outputs": [],
   "source": [
    "tables = doc.tables\n",
    "table_size = len(tables)\n",
    "\n",
    "val_lst = []\n",
    "for i in range(0, table_size):\n",
    "    for row in tables[i].rows:\n",
    "        cell_size = len(row.cells)\n",
    "        \n",
    "        val = [row.cells[c].paragraphs[0].text for c in range(0, cell_size)]\n",
    "        val_lst.append(val)\n",
    "        print(val)\n",
    "        print()"
   ]
  },
  {
   "cell_type": "code",
   "execution_count": null,
   "metadata": {},
   "outputs": [],
   "source": [
    "# for row in tables[0].rows:\n",
    "#     print(row.cells[0].paragraphs[0].text +row.cells[1].paragraphs[0].text + row.cells[2].paragraphs[0].text+ row.cells[3].paragraphs[0].text)"
   ]
  },
  {
   "cell_type": "code",
   "execution_count": null,
   "metadata": {},
   "outputs": [],
   "source": [
    "val_lst"
   ]
  },
  {
   "cell_type": "code",
   "execution_count": null,
   "metadata": {},
   "outputs": [],
   "source": []
  },
  {
   "cell_type": "code",
   "execution_count": null,
   "metadata": {},
   "outputs": [],
   "source": []
  }
 ],
 "metadata": {
  "kernelspec": {
   "display_name": "Python 3",
   "language": "python",
   "name": "python3"
  },
  "language_info": {
   "codemirror_mode": {
    "name": "ipython",
    "version": 3
   },
   "file_extension": ".py",
   "mimetype": "text/x-python",
   "name": "python",
   "nbconvert_exporter": "python",
   "pygments_lexer": "ipython3",
   "version": "3.7.3"
  }
 },
 "nbformat": 4,
 "nbformat_minor": 2
}
