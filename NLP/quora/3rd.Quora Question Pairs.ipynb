{
 "cells": [
  {
   "cell_type": "code",
   "execution_count": 1,
   "metadata": {},
   "outputs": [],
   "source": [
    "import numpy as np\n",
    "import pandas as pd\n",
    "import platform\n",
    "\n",
    "import matplotlib.pyplot as plt\n",
    "from matplotlib import font_manager, rc\n",
    "rc('font', family='AppleGothic')\n",
    "\n",
    "%matplotlib inline\n",
    "%load_ext autoreload\n",
    "%autoreload 2"
   ]
  },
  {
   "cell_type": "markdown",
   "metadata": {},
   "source": [
    "### Load data"
   ]
  },
  {
   "cell_type": "code",
   "execution_count": 2,
   "metadata": {},
   "outputs": [
    {
     "name": "stdout",
     "output_type": "stream",
     "text": [
      "(404290, 6)\n"
     ]
    },
    {
     "data": {
      "text/html": [
       "<div>\n",
       "<style scoped>\n",
       "    .dataframe tbody tr th:only-of-type {\n",
       "        vertical-align: middle;\n",
       "    }\n",
       "\n",
       "    .dataframe tbody tr th {\n",
       "        vertical-align: top;\n",
       "    }\n",
       "\n",
       "    .dataframe thead th {\n",
       "        text-align: right;\n",
       "    }\n",
       "</style>\n",
       "<table border=\"1\" class=\"dataframe\">\n",
       "  <thead>\n",
       "    <tr style=\"text-align: right;\">\n",
       "      <th></th>\n",
       "      <th>id</th>\n",
       "      <th>qid1</th>\n",
       "      <th>qid2</th>\n",
       "      <th>question1</th>\n",
       "      <th>question2</th>\n",
       "      <th>is_duplicate</th>\n",
       "    </tr>\n",
       "  </thead>\n",
       "  <tbody>\n",
       "    <tr>\n",
       "      <th>0</th>\n",
       "      <td>0</td>\n",
       "      <td>1</td>\n",
       "      <td>2</td>\n",
       "      <td>What is the step by step guide to invest in sh...</td>\n",
       "      <td>What is the step by step guide to invest in sh...</td>\n",
       "      <td>0</td>\n",
       "    </tr>\n",
       "    <tr>\n",
       "      <th>1</th>\n",
       "      <td>1</td>\n",
       "      <td>3</td>\n",
       "      <td>4</td>\n",
       "      <td>What is the story of Kohinoor (Koh-i-Noor) Dia...</td>\n",
       "      <td>What would happen if the Indian government sto...</td>\n",
       "      <td>0</td>\n",
       "    </tr>\n",
       "    <tr>\n",
       "      <th>2</th>\n",
       "      <td>2</td>\n",
       "      <td>5</td>\n",
       "      <td>6</td>\n",
       "      <td>How can I increase the speed of my internet co...</td>\n",
       "      <td>How can Internet speed be increased by hacking...</td>\n",
       "      <td>0</td>\n",
       "    </tr>\n",
       "    <tr>\n",
       "      <th>3</th>\n",
       "      <td>3</td>\n",
       "      <td>7</td>\n",
       "      <td>8</td>\n",
       "      <td>Why am I mentally very lonely? How can I solve...</td>\n",
       "      <td>Find the remainder when [math]23^{24}[/math] i...</td>\n",
       "      <td>0</td>\n",
       "    </tr>\n",
       "    <tr>\n",
       "      <th>4</th>\n",
       "      <td>4</td>\n",
       "      <td>9</td>\n",
       "      <td>10</td>\n",
       "      <td>Which one dissolve in water quikly sugar, salt...</td>\n",
       "      <td>Which fish would survive in salt water?</td>\n",
       "      <td>0</td>\n",
       "    </tr>\n",
       "  </tbody>\n",
       "</table>\n",
       "</div>"
      ],
      "text/plain": [
       "   id  qid1  qid2                                          question1  \\\n",
       "0   0     1     2  What is the step by step guide to invest in sh...   \n",
       "1   1     3     4  What is the story of Kohinoor (Koh-i-Noor) Dia...   \n",
       "2   2     5     6  How can I increase the speed of my internet co...   \n",
       "3   3     7     8  Why am I mentally very lonely? How can I solve...   \n",
       "4   4     9    10  Which one dissolve in water quikly sugar, salt...   \n",
       "\n",
       "                                           question2  is_duplicate  \n",
       "0  What is the step by step guide to invest in sh...             0  \n",
       "1  What would happen if the Indian government sto...             0  \n",
       "2  How can Internet speed be increased by hacking...             0  \n",
       "3  Find the remainder when [math]23^{24}[/math] i...             0  \n",
       "4            Which fish would survive in salt water?             0  "
      ]
     },
     "execution_count": 2,
     "metadata": {},
     "output_type": "execute_result"
    }
   ],
   "source": [
    "df = pd.read_csv('train.csv')\n",
    "print(df.shape)\n",
    "df.head()"
   ]
  },
  {
   "cell_type": "markdown",
   "metadata": {},
   "source": [
    "### EDA"
   ]
  },
  {
   "cell_type": "code",
   "execution_count": 3,
   "metadata": {},
   "outputs": [
    {
     "name": "stdout",
     "output_type": "stream",
     "text": [
      "404290 404290 404290\n"
     ]
    }
   ],
   "source": [
    "q1 = [i for i in df.question1]\n",
    "q2 = [i for i in df.question2]\n",
    "dup = [i for i in df.is_duplicate]\n",
    "print(len(q1), len(q2), len(dup))"
   ]
  },
  {
   "cell_type": "code",
   "execution_count": 4,
   "metadata": {},
   "outputs": [
    {
     "name": "stdout",
     "output_type": "stream",
     "text": [
      "total size questions: 808580\n",
      "문장길이샘플: [66, 51, 73]\n",
      "단어길이샘플: [14, 8, 14]\n"
     ]
    }
   ],
   "source": [
    "questions = q1 + q2\n",
    "print(\"total size questions:\",len(questions))\n",
    "\n",
    "length = [len(str(i)) for i in questions]\n",
    "word_cnt = [len(str(i).split()) for i in questions]\n",
    "\n",
    "print(\"문장길이샘플:\",length[:3])\n",
    "print(\"단어길이샘플:\",word_cnt[:3])"
   ]
  },
  {
   "cell_type": "code",
   "execution_count": 5,
   "metadata": {},
   "outputs": [
    {
     "data": {
      "text/html": [
       "<div>\n",
       "<style scoped>\n",
       "    .dataframe tbody tr th:only-of-type {\n",
       "        vertical-align: middle;\n",
       "    }\n",
       "\n",
       "    .dataframe tbody tr th {\n",
       "        vertical-align: top;\n",
       "    }\n",
       "\n",
       "    .dataframe thead th {\n",
       "        text-align: right;\n",
       "    }\n",
       "</style>\n",
       "<table border=\"1\" class=\"dataframe\">\n",
       "  <thead>\n",
       "    <tr style=\"text-align: right;\">\n",
       "      <th></th>\n",
       "      <th>index</th>\n",
       "      <th>sentence</th>\n",
       "      <th>word</th>\n",
       "    </tr>\n",
       "  </thead>\n",
       "  <tbody>\n",
       "    <tr>\n",
       "      <th>0</th>\n",
       "      <td>count</td>\n",
       "      <td>808580.000000</td>\n",
       "      <td>808580.000000</td>\n",
       "    </tr>\n",
       "    <tr>\n",
       "      <th>1</th>\n",
       "      <td>mean</td>\n",
       "      <td>59.822548</td>\n",
       "      <td>11.062100</td>\n",
       "    </tr>\n",
       "    <tr>\n",
       "      <th>2</th>\n",
       "      <td>std</td>\n",
       "      <td>31.963751</td>\n",
       "      <td>5.884595</td>\n",
       "    </tr>\n",
       "    <tr>\n",
       "      <th>3</th>\n",
       "      <td>min</td>\n",
       "      <td>1.000000</td>\n",
       "      <td>1.000000</td>\n",
       "    </tr>\n",
       "    <tr>\n",
       "      <th>4</th>\n",
       "      <td>25%</td>\n",
       "      <td>39.000000</td>\n",
       "      <td>7.000000</td>\n",
       "    </tr>\n",
       "    <tr>\n",
       "      <th>5</th>\n",
       "      <td>50%</td>\n",
       "      <td>51.000000</td>\n",
       "      <td>10.000000</td>\n",
       "    </tr>\n",
       "    <tr>\n",
       "      <th>6</th>\n",
       "      <td>75%</td>\n",
       "      <td>72.000000</td>\n",
       "      <td>13.000000</td>\n",
       "    </tr>\n",
       "    <tr>\n",
       "      <th>7</th>\n",
       "      <td>99%</td>\n",
       "      <td>157.000000</td>\n",
       "      <td>31.000000</td>\n",
       "    </tr>\n",
       "    <tr>\n",
       "      <th>8</th>\n",
       "      <td>max</td>\n",
       "      <td>1169.000000</td>\n",
       "      <td>237.000000</td>\n",
       "    </tr>\n",
       "  </tbody>\n",
       "</table>\n",
       "</div>"
      ],
      "text/plain": [
       "   index       sentence           word\n",
       "0  count  808580.000000  808580.000000\n",
       "1   mean      59.822548      11.062100\n",
       "2    std      31.963751       5.884595\n",
       "3    min       1.000000       1.000000\n",
       "4    25%      39.000000       7.000000\n",
       "5    50%      51.000000      10.000000\n",
       "6    75%      72.000000      13.000000\n",
       "7    99%     157.000000      31.000000\n",
       "8    max    1169.000000     237.000000"
      ]
     },
     "execution_count": 5,
     "metadata": {},
     "output_type": "execute_result"
    }
   ],
   "source": [
    "info = pd.DataFrame({'sentence':length,\n",
    "                     'word':word_cnt})\n",
    "info = info.describe().reset_index()\n",
    "info.loc[8] = info.loc[7]\n",
    "info.loc[7] = ['99%', np.percentile(length,99), np.percentile(word_cnt, 99)]\n",
    "info"
   ]
  },
  {
   "cell_type": "code",
   "execution_count": 6,
   "metadata": {},
   "outputs": [
    {
     "data": {
      "image/png": "[encoded data removed]",
      "text/plain": [
       "<Figure size 864x288 with 2 Axes>"
      ]
     },
     "metadata": {
      "needs_background": "light"
     },
     "output_type": "display_data"
    }
   ],
   "source": [
    "fig, (ax1, ax2) = plt.subplots(1,2, figsize = (12, 4))\n",
    "\n",
    "ax1.hist(length, bins = 100)\n",
    "ax1.set_xlabel('sentence length')\n",
    "ax1.set_ylabel('count')\n",
    "ax1.set_xlim(0, 400)\n",
    "\n",
    "ax2.hist(word_cnt, bins = 100)\n",
    "ax2.set_xlabel('word length')\n",
    "ax2.set_ylabel('count')\n",
    "ax2.set_xlim(0, 100)\n",
    "plt.show()\n"
   ]
  },
  {
   "cell_type": "markdown",
   "metadata": {},
   "source": [
    "### Word Cleaning "
   ]
  },
  {
   "cell_type": "code",
   "execution_count": 7,
   "metadata": {},
   "outputs": [],
   "source": [
    "# jay.jay_reg()"
   ]
  },
  {
   "cell_type": "code",
   "execution_count": 8,
   "metadata": {},
   "outputs": [],
   "source": [
    "import re\n",
    "\n",
    "def re_norm(i):\n",
    "    return re.sub('[-=+,#/\\?:^$.@*\\\"※~&%ㆍ!』\\\\‘|\\(\\)\\[\\]\\<\\>`\\'…》]',\"\",str(i)).lower()"
   ]
  },
  {
   "cell_type": "code",
   "execution_count": 9,
   "metadata": {},
   "outputs": [
    {
     "data": {
      "text/plain": [
       "(['what is the step by step guide to invest in share market in india',\n",
       "  'what is the story of kohinoor kohinoor diamond'],\n",
       " ['what is the step by step guide to invest in share market',\n",
       "  'what would happen if the indian government stole the kohinoor kohinoor diamond back'])"
      ]
     },
     "execution_count": 9,
     "metadata": {},
     "output_type": "execute_result"
    }
   ],
   "source": [
    "q1_lst = [re_norm(i) for i in df.question1]\n",
    "q2_lst = [re_norm(i) for i in df.question2]\n",
    "q1_lst[:2], q2_lst[:2]"
   ]
  },
  {
   "cell_type": "markdown",
   "metadata": {},
   "source": [
    "### Tokenizer"
   ]
  },
  {
   "cell_type": "code",
   "execution_count": 10,
   "metadata": {},
   "outputs": [],
   "source": [
    "# jay.jay_token()"
   ]
  },
  {
   "cell_type": "markdown",
   "metadata": {},
   "source": [
    "#### Tokenizing"
   ]
  },
  {
   "cell_type": "code",
   "execution_count": 11,
   "metadata": {},
   "outputs": [],
   "source": [
    "max_feature = 200000\n",
    "max_len = 31\n",
    "embedding_dim = 300"
   ]
  },
  {
   "cell_type": "code",
   "execution_count": 12,
   "metadata": {},
   "outputs": [
    {
     "name": "stderr",
     "output_type": "stream",
     "text": [
      "Using TensorFlow backend.\n"
     ]
    },
    {
     "name": "stdout",
     "output_type": "stream",
     "text": [
      "110837\n"
     ]
    }
   ],
   "source": [
    "from tensorflow.keras.preprocessing.text import Tokenizer\n",
    "from keras.preprocessing.sequence import pad_sequences\n",
    "\n",
    "token = Tokenizer(max_feature)\n",
    "token.fit_on_texts(q1_lst + q2_lst)\n",
    "vocab_size = len(token.word_index) + 1\n",
    "print(vocab_size)"
   ]
  },
  {
   "cell_type": "markdown",
   "metadata": {},
   "source": [
    "#### text data preprocessing"
   ]
  },
  {
   "cell_type": "code",
   "execution_count": 13,
   "metadata": {},
   "outputs": [
    {
     "name": "stdout",
     "output_type": "stream",
     "text": [
      "(404290, 31) (404290, 31) (404290,)\n"
     ]
    }
   ],
   "source": [
    "q1_seq = token.texts_to_sequences(q1_lst)\n",
    "q2_seq = token.texts_to_sequences(q2_lst)\n",
    "\n",
    "q1_data = pad_sequences(q1_seq, maxlen = max_len)\n",
    "q2_data = pad_sequences(q2_seq, maxlen = max_len)\n",
    "labels = np.array(df.is_duplicate, dtype = int)\n",
    "print(q1_data.shape, q2_data.shape, labels.shape)"
   ]
  },
  {
   "cell_type": "code",
   "execution_count": 14,
   "metadata": {},
   "outputs": [],
   "source": [
    "data_file = {}\n",
    "data_file['q1_train'] = q1_data\n",
    "data_file['q2_train'] = q2_data\n",
    "data_file['label_train'] = labels"
   ]
  },
  {
   "cell_type": "code",
   "execution_count": 15,
   "metadata": {},
   "outputs": [
    {
     "data": {
      "text/plain": [
       "{'max_feature': 200000,\n",
       " 'max_len': 31,\n",
       " 'embedding_dim': 300,\n",
       " 'vocab_size': 110837}"
      ]
     },
     "execution_count": 15,
     "metadata": {},
     "output_type": "execute_result"
    }
   ],
   "source": [
    "config = {}\n",
    "config['max_feature'] = max_feature\n",
    "config['max_len'] = max_len\n",
    "config['embedding_dim'] = embedding_dim\n",
    "config['vocab_size'] = vocab_size\n",
    "config"
   ]
  },
  {
   "cell_type": "markdown",
   "metadata": {},
   "source": [
    "### Glove\n",
    "- word embedding\n",
    "    - 비슷한 단어들을 서로 가깝도록 묶음으로써 하나의 문장이 그와 비슷한 의미를 지닌 문장 클래스로 일반화 될 수 있도록 해준다.\n",
    "    - 그저 동의어만을 바궈줄 수 있는 것이 아니라, 비슷한 역할을 가지는 단어를 바꿀 수도 있다는 것을 의미한다.\n",
    "    - 단어 간의 관계가 벡타간의 차이에 녹아 들어감"
   ]
  },
  {
   "cell_type": "code",
   "execution_count": 16,
   "metadata": {},
   "outputs": [],
   "source": [
    "# jay.jay_glove()"
   ]
  },
  {
   "cell_type": "markdown",
   "metadata": {},
   "source": [
    "#### processing GloVe Embedding"
   ]
  },
  {
   "cell_type": "code",
   "execution_count": 17,
   "metadata": {},
   "outputs": [
    {
     "name": "stdout",
     "output_type": "stream",
     "text": [
      "Downloading data from http://nlp.stanford.edu/data/glove.840B.300d.zip\n",
      "2176770048/2176768927 [==============================] - 1149s 1us/step\n",
      "processing glove.840B.300d.txt\n",
      "word embddings: 2196016\n"
     ]
    }
   ],
   "source": [
    "from os.path import expanduser, exists\n",
    "from keras.utils.data_utils import get_file\n",
    "from zipfile import ZipFile\n",
    "\n",
    "\n",
    "KERAS_DATASETS_DIR = expanduser('~/.keras/datasets/')\n",
    "GLOVE_ZIP_FILE_URL = 'http://nlp.stanford.edu/data/glove.840B.300d.zip'\n",
    "GLOVE_ZIP_FILE = 'glove.840B.300d.zip'\n",
    "GLOVE_FILE = 'glove.840B.300d.txt'\n",
    "\n",
    "if not exists (KERAS_DATASETS_DIR + GLOVE_ZIP_FILE):\n",
    "    zipfile = ZipFile(get_file(GLOVE_ZIP_FILE, GLOVE_ZIP_FILE_URL))\n",
    "    zipfile.extract(GLOVE_FILE, path=KERAS_DATASETS_DIR)\n",
    "\n",
    "print(\"processing\", GLOVE_FILE)\n",
    "embd_index = {}\n",
    "with open(KERAS_DATASETS_DIR + GLOVE_FILE, encoding='utf-8') as file:\n",
    "    for line in file:\n",
    "        recods = line.split(' ')\n",
    "        word = recods[0]\n",
    "        vec_dim = np.asarray(recods[1:], dtype = 'float32')\n",
    "        embd_index[word] = vec_dim\n",
    "print(\"word embddings:\", len(embd_index))"
   ]
  },
  {
   "cell_type": "code",
   "execution_count": 18,
   "metadata": {},
   "outputs": [
    {
     "data": {
      "text/plain": [
       "{'max_feature': 200000,\n",
       " 'max_len': 31,\n",
       " 'embedding_dim': 300,\n",
       " 'vocab_size': 110837,\n",
       " 'num_words': 110836}"
      ]
     },
     "execution_count": 18,
     "metadata": {},
     "output_type": "execute_result"
    }
   ],
   "source": [
    "config['num_words'] = min(max_feature, len(token.word_index))\n",
    "config"
   ]
  },
  {
   "cell_type": "markdown",
   "metadata": {},
   "source": [
    "#### Word Embedding Matrix"
   ]
  },
  {
   "cell_type": "code",
   "execution_count": 19,
   "metadata": {},
   "outputs": [
    {
     "name": "stdout",
     "output_type": "stream",
     "text": [
      "Null word embeddings: 41249\n"
     ]
    }
   ],
   "source": [
    "num_words = min(max_feature, vocab_size)\n",
    "embedding_matrix = np.zeros((num_words, embedding_dim))\n",
    "\n",
    "for word, index in token.word_index.items():\n",
    "    if index > max_feature:\n",
    "        continue\n",
    "    embd_vec = embd_index.get(word)\n",
    "    if embd_vec is not None:\n",
    "        embedding_matrix[index] = embd_vec\n",
    "        \n",
    "print('Null word embeddings: %d' % np.sum(np.sum(embedding_matrix, axis=1) == 0))"
   ]
  },
  {
   "cell_type": "code",
   "execution_count": 20,
   "metadata": {},
   "outputs": [
    {
     "data": {
      "text/plain": [
       "{'q1_train': array([[    0,     0,     0, ...,   372,     8,    35],\n",
       "        [    0,     0,     0, ..., 11876, 11876,  4561],\n",
       "        [    0,     0,     0, ...,   142,     6,  2775],\n",
       "        ...,\n",
       "        [    0,     0,     0, ...,     3,    49,  4328],\n",
       "        [    0,     0,     0, ...,    32,    81,   229],\n",
       "        [    0,     0,     0, ...,   150,    29,  4650]], dtype=int32),\n",
       " 'q2_train': array([[    0,     0,     0, ...,     8,   749,   372],\n",
       "        [    0,     0,     0, ..., 11876,  4561,   199],\n",
       "        [    0,     0,     0, ...,  1314,   212, 11238],\n",
       "        ...,\n",
       "        [    0,     0,     0, ...,    73,    64,  4328],\n",
       "        [    0,     0,     0, ...,  5022,    12,  6573],\n",
       "        [    0,     0,     0, ...,    29,    34,  4650]], dtype=int32),\n",
       " 'label_train': array([0, 0, 0, ..., 0, 0, 0]),\n",
       " 'embedding_matrix': array([[ 0.        ,  0.        ,  0.        , ...,  0.        ,\n",
       "          0.        ,  0.        ],\n",
       "        [ 0.27204001, -0.06203   , -0.1884    , ...,  0.13015001,\n",
       "         -0.18317001,  0.1323    ],\n",
       "        [-0.038548  ,  0.54251999, -0.21843   , ...,  0.11798   ,\n",
       "          0.24590001,  0.22872999],\n",
       "        ...,\n",
       "        [-0.1681    ,  0.0039697 ,  0.26023999, ..., -0.22747999,\n",
       "         -0.45528999,  0.072328  ],\n",
       "        [ 0.        ,  0.        ,  0.        , ...,  0.        ,\n",
       "          0.        ,  0.        ],\n",
       "        [ 1.06700003, -0.23154999, -0.026282  , ...,  0.30162001,\n",
       "          0.051228  ,  0.53963   ]])}"
      ]
     },
     "execution_count": 20,
     "metadata": {},
     "output_type": "execute_result"
    }
   ],
   "source": [
    "data_file['embedding_matrix'] = embedding_matrix\n",
    "data_file"
   ]
  },
  {
   "cell_type": "code",
   "execution_count": 21,
   "metadata": {},
   "outputs": [
    {
     "data": {
      "text/plain": [
       "{'max_feature': 200000,\n",
       " 'max_len': 31,\n",
       " 'embedding_dim': 300,\n",
       " 'vocab_size': 110837,\n",
       " 'num_words': 110836}"
      ]
     },
     "execution_count": 21,
     "metadata": {},
     "output_type": "execute_result"
    }
   ],
   "source": [
    "config"
   ]
  },
  {
   "cell_type": "markdown",
   "metadata": {},
   "source": [
    "### Data Split"
   ]
  },
  {
   "cell_type": "code",
   "execution_count": 22,
   "metadata": {},
   "outputs": [
    {
     "data": {
      "text/plain": [
       "((404290, 2, 31), (404290,))"
      ]
     },
     "execution_count": 22,
     "metadata": {},
     "output_type": "execute_result"
    }
   ],
   "source": [
    "from sklearn.model_selection import train_test_split\n",
    "\n",
    "x = np.stack((q1_data, q2_data), axis = 1)\n",
    "y = labels\n",
    "x.shape, y.shape"
   ]
  },
  {
   "cell_type": "code",
   "execution_count": 23,
   "metadata": {},
   "outputs": [
    {
     "data": {
      "text/plain": [
       "((363861, 2, 31), (40429, 2, 31), (363861,), (40429,))"
      ]
     },
     "execution_count": 23,
     "metadata": {},
     "output_type": "execute_result"
    }
   ],
   "source": [
    "x_train, x_test, y_train, y_test = train_test_split(x, y, test_size = 0.1, random_state = 42)\n",
    "x_train.shape, x_test.shape, y_train.shape, y_test.shape"
   ]
  },
  {
   "cell_type": "code",
   "execution_count": 24,
   "metadata": {},
   "outputs": [
    {
     "data": {
      "text/plain": [
       "((363861, 31), (363861, 31), (40429, 31), (40429, 31))"
      ]
     },
     "execution_count": 24,
     "metadata": {},
     "output_type": "execute_result"
    }
   ],
   "source": [
    "q1_train = x_train[:,0] #(q1_data)\n",
    "q2_train = x_train[:,1]\n",
    "q1_test = x_test[:,0]\n",
    "q2_test = x_test[:,1]\n",
    "q1_train.shape, q2_train.shape, q1_test.shape, q2_test.shape"
   ]
  },
  {
   "cell_type": "markdown",
   "metadata": {},
   "source": [
    "### Model"
   ]
  },
  {
   "cell_type": "code",
   "execution_count": 25,
   "metadata": {},
   "outputs": [
    {
     "data": {
      "text/plain": [
       "{'max_feature': 200000,\n",
       " 'max_len': 31,\n",
       " 'embedding_dim': 300,\n",
       " 'vocab_size': 110837,\n",
       " 'num_words': 110836}"
      ]
     },
     "execution_count": 25,
     "metadata": {},
     "output_type": "execute_result"
    }
   ],
   "source": [
    "config"
   ]
  },
  {
   "cell_type": "code",
   "execution_count": 26,
   "metadata": {},
   "outputs": [
    {
     "data": {
      "text/plain": [
       "dict_keys(['q1_train', 'q2_train', 'label_train', 'embedding_matrix'])"
      ]
     },
     "execution_count": 26,
     "metadata": {},
     "output_type": "execute_result"
    }
   ],
   "source": [
    "data_file.keys()"
   ]
  },
  {
   "cell_type": "markdown",
   "metadata": {},
   "source": [
    "- **TimeDistributed()**\n",
    "    - 각 스텝마다 cost를 계산해서 하위 스텝으로 오류를 전파하여 각 weight를 업데이트 해라\n",
    "    - else: LSTM의 중간 출력이 모두 사용되지만 TimeDistributed()가 사용되지 않으면, 시간축으로 분산되지 않아서 모든 중간 출력에 대해 마지막 스텝에서 cost가 계산되고 마지막 스텝부터 오류가 전파된다\n",
    "- **BatchNormalization()**\n",
    "    - Gradient Vanishing 이 일어나지 않도록 하는 아이디어 중 하나\n",
    "    - ReLU, Initialization, Small Learning Rate 등과 같은 간접적인 방법보다 전체적인 Training 과정 자체를 안정화 하여 학습 속도를 가속시킬 수 있는 근본적인 방법\n",
    "    - reason: 'Internal Covariance Shift'\n",
    "        - Network의 각 층이나 Activation 마다 input의 distribution이 달라지는 현상\n",
    "        - 따라서 이 현상을 막기 위해서 간단하게 각 층의 input의 distribution을 mean = 0 & sd = 1로 normalization\n",
    "        - whitening으로 input의 feature들을 uncorrelated 하게 만들어주고, 각각의 variance를 1로 만들어 주는 작업\n",
    "        - 하지만, whitening의 계산과 inverse의 계산은 계산량이 많아 지게 하고, 더구나 whitening으로 parameter들의 영향이 무시 된다는 것\n",
    "    - algorithm:\n",
    "        - assume that the features are uncorrelated to each other and normalize the feature under the condition of mean = 0 and var = 1\n",
    "        - The reason fix the mean and var into 0 and 1 is to remove the non-linearity of the Activation Function since the two outputs of the sigmoid function is more likely a linear\n",
    "        - While normalized features is computed, scale factor(gamma) and shift factor(beta) are added so that they are trained together on the stage of the Back-propagation\n",
    "        - Use mean and variance from a mini-batch to be normalized\n",
    "    - Benefit\n",
    "        - able to utilize a high learning rate since the parameters are not affected during Propagation; thus, fast learning process\n",
    "        - has a regulization effect itself and same effect like Dropout, which is a cause for a model to be slow, but BatchNormalization gets rid of the effect at the same time\n",
    "    - Implementation\n",
    "        - Deploy a BatchNormalization right before a Hidden layer\n",
    "        - so that modified input is utilized into an Activation Function"
   ]
  },
  {
   "cell_type": "code",
   "execution_count": 27,
   "metadata": {},
   "outputs": [
    {
     "name": "stdout",
     "output_type": "stream",
     "text": [
      "WARNING:tensorflow:From /Users/jaygykay/anaconda3/lib/python3.7/site-packages/tensorflow/python/ops/nn_impl.py:180: add_dispatch_support.<locals>.wrapper (from tensorflow.python.ops.array_ops) is deprecated and will be removed in a future version.\n",
      "Instructions for updating:\n",
      "Use tf.where in 2.0, which has the same broadcast rule as np.where\n",
      "Model: \"model_1\"\n",
      "__________________________________________________________________________________________________\n",
      "Layer (type)                    Output Shape         Param #     Connected to                     \n",
      "==================================================================================================\n",
      "input_1 (InputLayer)            (None, 31)           0                                            \n",
      "__________________________________________________________________________________________________\n",
      "input_2 (InputLayer)            (None, 31)           0                                            \n",
      "__________________________________________________________________________________________________\n",
      "embedding_1 (Embedding)         (None, 31, 300)      33251100    input_1[0][0]                    \n",
      "__________________________________________________________________________________________________\n",
      "embedding_2 (Embedding)         (None, 31, 300)      33251100    input_2[0][0]                    \n",
      "__________________________________________________________________________________________________\n",
      "time_distributed_1 (TimeDistrib (None, 31, 300)      90300       embedding_1[0][0]                \n",
      "__________________________________________________________________________________________________\n",
      "time_distributed_2 (TimeDistrib (None, 31, 300)      90300       embedding_2[0][0]                \n",
      "__________________________________________________________________________________________________\n",
      "lambda_1 (Lambda)               (None, 300)          0           time_distributed_1[0][0]         \n",
      "__________________________________________________________________________________________________\n",
      "lambda_2 (Lambda)               (None, 300)          0           time_distributed_2[0][0]         \n",
      "__________________________________________________________________________________________________\n",
      "concatenate_1 (Concatenate)     (None, 600)          0           lambda_1[0][0]                   \n",
      "                                                                 lambda_2[0][0]                   \n",
      "__________________________________________________________________________________________________\n",
      "dense_3 (Dense)                 (None, 200)          120200      concatenate_1[0][0]              \n",
      "__________________________________________________________________________________________________\n",
      "dropout_1 (Dropout)             (None, 200)          0           dense_3[0][0]                    \n",
      "__________________________________________________________________________________________________\n",
      "batch_normalization_1 (BatchNor (None, 200)          800         dropout_1[0][0]                  \n",
      "__________________________________________________________________________________________________\n",
      "dense_4 (Dense)                 (None, 200)          40200       batch_normalization_1[0][0]      \n",
      "__________________________________________________________________________________________________\n",
      "dropout_2 (Dropout)             (None, 200)          0           dense_4[0][0]                    \n",
      "__________________________________________________________________________________________________\n",
      "batch_normalization_2 (BatchNor (None, 200)          800         dropout_2[0][0]                  \n",
      "__________________________________________________________________________________________________\n",
      "dense_5 (Dense)                 (None, 200)          40200       batch_normalization_2[0][0]      \n",
      "__________________________________________________________________________________________________\n",
      "dropout_3 (Dropout)             (None, 200)          0           dense_5[0][0]                    \n",
      "__________________________________________________________________________________________________\n",
      "batch_normalization_3 (BatchNor (None, 200)          800         dropout_3[0][0]                  \n",
      "__________________________________________________________________________________________________\n",
      "dense_6 (Dense)                 (None, 1)            201         batch_normalization_3[0][0]      \n",
      "==================================================================================================\n",
      "Total params: 66,886,001\n",
      "Trainable params: 66,884,801\n",
      "Non-trainable params: 1,200\n",
      "__________________________________________________________________________________________________\n"
     ]
    }
   ],
   "source": [
    "from keras.layers import Input, TimeDistributed, Dense, Lambda, concatenate, Dropout, BatchNormalization\n",
    "from keras.layers.embeddings import Embedding\n",
    "from keras.models import Model\n",
    "from keras import backend as K\n",
    "\n",
    "q1_input = Input(shape = (max_len, ))\n",
    "q2_input = Input(shape = (max_len, ))\n",
    "\n",
    "q1 = Embedding(vocab_size, embedding_dim,\n",
    "               weights = [embedding_matrix])(q1_input)\n",
    "q1 = TimeDistributed(Dense(embedding_dim, activation = 'relu'))(q1)\n",
    "q1 = Lambda(lambda x: K.max(x, axis = 1), output_shape = (embedding_dim, ))(q1)\n",
    "\n",
    "q2 = Embedding(vocab_size, embedding_dim,\n",
    "               weights = [embedding_matrix])(q2_input)\n",
    "q2 = TimeDistributed(Dense(embedding_dim, activation = 'relu'))(q2)\n",
    "q2 = Lambda(lambda x: K.max(x, axis = 1), output_shape = (embedding_dim, ))(q2)\n",
    "\n",
    "merged = concatenate([q1, q2])\n",
    "\n",
    "merged = Dense(200, activation = 'relu')(merged)\n",
    "merged = Dropout(0.5)(merged)\n",
    "merged = BatchNormalization()(merged)\n",
    "\n",
    "merged = Dense(200, activation = 'relu')(merged)\n",
    "merged = Dropout(0.5)(merged)\n",
    "merged = BatchNormalization()(merged)\n",
    "\n",
    "merged = Dense(200, activation = 'relu')(merged)\n",
    "merged = Dropout(0.5)(merged)\n",
    "merged = BatchNormalization()(merged)\n",
    "\n",
    "sigmoid = Dense(1, activation = 'sigmoid')(merged)\n",
    "\n",
    "model = Model(inputs = [q1_input, q2_input], outputs = sigmoid)\n",
    "model.compile(loss = 'binary_crossentropy', optimizer = 'adam', metrics = ['accuracy'])\n",
    "model.summary()"
   ]
  },
  {
   "cell_type": "code",
   "execution_count": 28,
   "metadata": {},
   "outputs": [
    {
     "name": "stdout",
     "output_type": "stream",
     "text": [
      "WARNING:tensorflow:From /Users/jaygykay/anaconda3/lib/python3.7/site-packages/keras/backend/tensorflow_backend.py:422: The name tf.global_variables is deprecated. Please use tf.compat.v1.global_variables instead.\n",
      "\n",
      "Train on 291088 samples, validate on 72773 samples\n",
      "Epoch 1/20\n",
      "291088/291088 [==============================] - 1109s 4ms/step - loss: 0.5560 - accuracy: 0.7150 - val_loss: 0.4918 - val_accuracy: 0.7640\n",
      "Epoch 2/20\n",
      "291088/291088 [==============================] - 1100s 4ms/step - loss: 0.4390 - accuracy: 0.7927 - val_loss: 0.4616 - val_accuracy: 0.7820\n",
      "Epoch 3/20\n",
      "291088/291088 [==============================] - 1099s 4ms/step - loss: 0.3669 - accuracy: 0.8329 - val_loss: 0.4662 - val_accuracy: 0.7739\n",
      "Epoch 4/20\n",
      "291088/291088 [==============================] - 1100s 4ms/step - loss: 0.3103 - accuracy: 0.8609 - val_loss: 0.4704 - val_accuracy: 0.7829\n",
      "Epoch 5/20\n",
      "291088/291088 [==============================] - 1099s 4ms/step - loss: 0.2632 - accuracy: 0.8845 - val_loss: 0.4912 - val_accuracy: 0.7912\n",
      "Epoch 6/20\n",
      "291088/291088 [==============================] - 1098s 4ms/step - loss: 0.2242 - accuracy: 0.9040 - val_loss: 0.4896 - val_accuracy: 0.7947\n",
      "Epoch 7/20\n",
      "291088/291088 [==============================] - 1106s 4ms/step - loss: 0.1952 - accuracy: 0.9188 - val_loss: 0.6143 - val_accuracy: 0.7466\n",
      "Epoch 8/20\n",
      "291088/291088 [==============================] - 1101s 4ms/step - loss: 0.1767 - accuracy: 0.9270 - val_loss: 0.5421 - val_accuracy: 0.7898\n",
      "Epoch 9/20\n",
      "291088/291088 [==============================] - 1101s 4ms/step - loss: 0.1494 - accuracy: 0.9394 - val_loss: 0.5693 - val_accuracy: 0.7923\n",
      "Epoch 10/20\n",
      "291088/291088 [==============================] - 1100s 4ms/step - loss: 0.1344 - accuracy: 0.9467 - val_loss: 0.5572 - val_accuracy: 0.7867\n",
      "Epoch 11/20\n",
      "291088/291088 [==============================] - 1103s 4ms/step - loss: 0.1227 - accuracy: 0.9518 - val_loss: 0.5716 - val_accuracy: 0.7999\n",
      "Epoch 12/20\n",
      "291088/291088 [==============================] - 1117s 4ms/step - loss: 0.1127 - accuracy: 0.9563 - val_loss: 0.6040 - val_accuracy: 0.7898\n",
      "Epoch 13/20\n",
      "291088/291088 [==============================] - 1168s 4ms/step - loss: 0.0996 - accuracy: 0.9618 - val_loss: 0.6311 - val_accuracy: 0.7866\n",
      "Epoch 14/20\n",
      "291088/291088 [==============================] - 1154s 4ms/step - loss: 0.0954 - accuracy: 0.9634 - val_loss: 0.6426 - val_accuracy: 0.7701\n",
      "Epoch 15/20\n",
      "291088/291088 [==============================] - 1158s 4ms/step - loss: 0.0848 - accuracy: 0.9683 - val_loss: 0.7029 - val_accuracy: 0.7817\n",
      "Epoch 16/20\n",
      "291088/291088 [==============================] - 1161s 4ms/step - loss: 0.0790 - accuracy: 0.9703 - val_loss: 0.8385 - val_accuracy: 0.7526\n",
      "Epoch 17/20\n",
      "291088/291088 [==============================] - 1111s 4ms/step - loss: 0.0796 - accuracy: 0.9699 - val_loss: 0.7116 - val_accuracy: 0.7746\n",
      "Epoch 18/20\n",
      "291088/291088 [==============================] - 1114s 4ms/step - loss: 0.0680 - accuracy: 0.9749 - val_loss: 0.6484 - val_accuracy: 0.7923\n",
      "Epoch 19/20\n",
      "291088/291088 [==============================] - 1110s 4ms/step - loss: 0.0622 - accuracy: 0.9771 - val_loss: 0.7763 - val_accuracy: 0.7651\n",
      "Epoch 20/20\n",
      "291088/291088 [==============================] - 1133s 4ms/step - loss: 0.0598 - accuracy: 0.9778 - val_loss: 0.7337 - val_accuracy: 0.7768\n"
     ]
    }
   ],
   "source": [
    "from keras.callbacks import EarlyStopping\n",
    "# early_stopping = EarlyStopping()\n",
    "history = model.fit([q1_train, q2_train], y_train,\n",
    "                    epochs = 20, validation_split = 0.2,\n",
    "                    batch_size = 256)"
   ]
  },
  {
   "cell_type": "code",
   "execution_count": 29,
   "metadata": {},
   "outputs": [
    {
     "data": {
      "image/png": "[encoded data removed]",
      "text/plain": [
       "<Figure size 864x288 with 2 Axes>"
      ]
     },
     "metadata": {
      "needs_background": "light"
     },
     "output_type": "display_data"
    }
   ],
   "source": [
    "fig, (ax1, ax2) = plt.subplots(1, 2, figsize =(12,4))\n",
    "ax1.plot(history.history['loss'])\n",
    "ax1.plot(history.history['val_loss'])\n",
    "ax1.set_xlabel('epochs')\n",
    "ax1.set_ylabel('loss')\n",
    "ax1.set_ylim(0,1)\n",
    "plt.legend(['train_loss', 'val_loss'])\n",
    "\n",
    "ax2.plot(history.history['accuracy'])\n",
    "ax2.plot(history.history['val_accuracy'])\n",
    "ax2.set_xlabel('epochs')\n",
    "ax2.set_ylabel('loss')\n",
    "ax2.set_ylim(0,1)\n",
    "plt.legend(['accuracy', 'val_accuracy'])\n",
    "plt.show()"
   ]
  },
  {
   "cell_type": "code",
   "execution_count": null,
   "metadata": {},
   "outputs": [],
   "source": []
  }
 ],
 "metadata": {
  "kernelspec": {
   "display_name": "Python 3",
   "language": "python",
   "name": "python3"
  },
  "language_info": {
   "codemirror_mode": {
    "name": "ipython",
    "version": 3
   },
   "file_extension": ".py",
   "mimetype": "text/x-python",
   "name": "python",
   "nbconvert_exporter": "python",
   "pygments_lexer": "ipython3",
   "version": "3.7.3"
  }
 },
 "nbformat": 4,
 "nbformat_minor": 2
}
